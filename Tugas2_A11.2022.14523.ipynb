{
  "nbformat": 4,
  "nbformat_minor": 0,
  "metadata": {
    "colab": {
      "provenance": [],
      "include_colab_link": true
    },
    "kernelspec": {
      "name": "python3",
      "display_name": "Python 3"
    },
    "language_info": {
      "name": "python"
    }
  },
  "cells": [
    {
      "cell_type": "markdown",
      "metadata": {
        "id": "view-in-github",
        "colab_type": "text"
      },
      "source": [
        "<a href=\"https://colab.research.google.com/github/fahmipp/datamining_assign4/blob/main/Tugas2_A11.2022.14523.ipynb\" target=\"_parent\"><img src=\"https://colab.research.google.com/assets/colab-badge.svg\" alt=\"Open In Colab\"/></a>"
      ]
    },
    {
      "cell_type": "code",
      "execution_count": null,
      "metadata": {
        "id": "5uenzIIKkVxx"
      },
      "outputs": [],
      "source": [
        "import pandas as pd\n",
        "import seaborn as sns\n",
        "import matplotlib.pyplot as plt\n",
        "from sklearn.model_selection import train_test_split\n",
        "from sklearn.preprocessing import OneHotEncoder\n",
        "from sklearn.compose import ColumnTransformer\n",
        "from sklearn.pipeline import Pipeline\n",
        "from sklearn.ensemble import RandomForestClassifier\n",
        "from sklearn.metrics import classification_report, confusion_matrix"
      ]
    },
    {
      "cell_type": "code",
      "source": [
        "# 1. Business Understanding\n",
        "# Tujuan: Menganalisis faktor-faktor yang mempengaruhi kelayakan keringanan UKT mahasiswa\n",
        "\n",
        "# 2. Data Understanding\n",
        "# Memuat data\n",
        "data = pd.read_csv('klasifikasimhs.csv')"
      ],
      "metadata": {
        "id": "w5lVdaMXktJk"
      },
      "execution_count": null,
      "outputs": []
    },
    {
      "cell_type": "code",
      "source": [
        "# Menampilkan informasi data\n",
        "print(data.info())\n",
        "print(data.describe())"
      ],
      "metadata": {
        "colab": {
          "base_uri": "https://localhost:8080/"
        },
        "id": "pgPV903TkzOX",
        "outputId": "7995d549-aad2-4c6f-ba42-5a0f2aec1a00"
      },
      "execution_count": null,
      "outputs": [
        {
          "output_type": "stream",
          "name": "stdout",
          "text": [
            "<class 'pandas.core.frame.DataFrame'>\n",
            "RangeIndex: 100 entries, 0 to 99\n",
            "Data columns (total 6 columns):\n",
            " #   Column                       Non-Null Count  Dtype \n",
            "---  ------                       --------------  ----- \n",
            " 0   Tempat Tinggal               100 non-null    int64 \n",
            " 1   Pekerjaan Orang Tua          100 non-null    object\n",
            " 2   Penghasilan Orang Tua        100 non-null    int64 \n",
            " 3   Jumlah Tanggungan Orang Tua  100 non-null    int64 \n",
            " 4   Kendaraan                    100 non-null    int64 \n",
            " 5   Kelayakan Keringanan UKT     100 non-null    object\n",
            "dtypes: int64(4), object(2)\n",
            "memory usage: 4.8+ KB\n",
            "None\n",
            "       Tempat Tinggal  Penghasilan Orang Tua  Jumlah Tanggungan Orang Tua  \\\n",
            "count      100.000000           1.000000e+02                   100.000000   \n",
            "mean         0.500000           5.427000e+06                     2.590000   \n",
            "std          0.502519           2.533128e+06                     1.129002   \n",
            "min          0.000000           7.000000e+05                     1.000000   \n",
            "25%          0.000000           3.000000e+06                     2.000000   \n",
            "50%          0.500000           5.500000e+06                     2.000000   \n",
            "75%          1.000000           8.000000e+06                     3.250000   \n",
            "max          1.000000           1.000000e+07                     5.000000   \n",
            "\n",
            "        Kendaraan  \n",
            "count  100.000000  \n",
            "mean     1.070000  \n",
            "std      0.655282  \n",
            "min      0.000000  \n",
            "25%      1.000000  \n",
            "50%      1.000000  \n",
            "75%      1.250000  \n",
            "max      2.000000  \n"
          ]
        }
      ]
    },
    {
      "cell_type": "code",
      "source": [
        "# Visualisasi distribusi kelayakan keringanan UKT\n",
        "sns.countplot(x='Kelayakan Keringanan UKT', data=data)\n",
        "plt.title('Distribusi Kelayakan Keringanan UKT')\n",
        "plt.xlabel('Kelayakan Keringanan UKT')\n",
        "plt.ylabel('Frekuensi')\n",
        "plt.show()\n",
        "\n",
        "# 3. Data Preparation\n",
        "# Memisahkan fitur dan target\n",
        "X = data.drop(columns=['Kelayakan Keringanan UKT'])\n",
        "y = data['Kelayakan Keringanan UKT']\n",
        "\n",
        "# Menggunakan OneHotEncoder untuk fitur kategorikal\n",
        "categorical_features = ['Tempat Tinggal', 'Pekerjaan Orang Tua', 'Kendaraan']\n",
        "numeric_features = ['Penghasilan Orang Tua', 'Jumlah Tanggungan Orang Tua']\n",
        "\n",
        "# Membuat pipeline untuk preprocessing\n",
        "preprocessor = ColumnTransformer(\n",
        "    transformers=[\n",
        "        ('num', 'passthrough', numeric_features),  # Fitur numerik\n",
        "        ('cat', OneHotEncoder(), categorical_features)  # Fitur kategorikal\n",
        "    ]\n",
        ")\n",
        "\n",
        "# 4. Modeling\n",
        "# Membuat model pipeline\n",
        "model = Pipeline(steps=[\n",
        "    ('preprocessor', preprocessor),\n",
        "    ('classifier', RandomForestClassifier(random_state=42))\n",
        "])\n",
        "\n",
        "# Membagi data menjadi data pelatihan dan pengujian\n",
        "X_train, X_test, y_train, y_test = train_test_split(X, y, test_size=0.2, random_state=42)\n",
        "\n",
        "# Melatih model\n",
        "model.fit(X_train, y_train)\n",
        "\n",
        "# 5. Evaluation\n",
        "# memprediksi data uji\n",
        "y_pred = model.predict(X_test)\n",
        "\n",
        "# Menampilkan hasil evaluasi\n",
        "print(confusion_matrix(y_test, y_pred))\n",
        "print(classification_report(y_test, y_pred))\n",
        "\n",
        "# 6. Deployment\n",
        "# Menyimpan model (opsional)\n",
        "import joblib\n",
        "joblib.dump(model, 'model_klasifikasi.pkl')\n",
        "\n",
        "print(\"Model disimpan sebagai 'model_klasifikasi.pkl'\")\n"
      ],
      "metadata": {
        "colab": {
          "base_uri": "https://localhost:8080/",
          "height": 680
        },
        "id": "I1RLFfHvk6IN",
        "outputId": "55169bb0-5b70-4455-d957-c1f7bf98caf8"
      },
      "execution_count": null,
      "outputs": [
        {
          "output_type": "display_data",
          "data": {
            "text/plain": [
              "<Figure size 640x480 with 1 Axes>"
            ],
            "image/png": "[encoded data removed]"
          },
          "metadata": {}
        },
        {
          "output_type": "stream",
          "name": "stdout",
          "text": [
            "[[ 3  2]\n",
            " [ 0 15]]\n",
            "              precision    recall  f1-score   support\n",
            "\n",
            "           0       1.00      0.60      0.75         5\n",
            "           1       0.88      1.00      0.94        15\n",
            "\n",
            "    accuracy                           0.90        20\n",
            "   macro avg       0.94      0.80      0.84        20\n",
            "weighted avg       0.91      0.90      0.89        20\n",
            "\n",
            "Model disimpan sebagai 'model_klasifikasi.pkl'\n"
          ]
        }
      ]
    }
  ]
}